{
  "nbformat": 4,
  "nbformat_minor": 0,
  "metadata": {
    "colab": {
      "provenance": [],
      "authorship_tag": "ABX9TyN6vJq01etmaqGZZ4WnW+P8",
      "include_colab_link": true
    },
    "kernelspec": {
      "name": "python3",
      "display_name": "Python 3"
    },
    "language_info": {
      "name": "python"
    }
  },
  "cells": [
    {
      "cell_type": "markdown",
      "metadata": {
        "id": "view-in-github",
        "colab_type": "text"
      },
      "source": [
        "<a href=\"https://colab.research.google.com/github/Avas77/apache-pyspark-by-example-802868/blob/crimes-day-of-week/crimes.ipynb\" target=\"_parent\"><img src=\"https://colab.research.google.com/assets/colab-badge.svg\" alt=\"Open In Colab\"/></a>"
      ]
    },
    {
      "cell_type": "code",
      "execution_count": null,
      "metadata": {
        "id": "vvnvsSix03DD"
      },
      "outputs": [],
      "source": [
        "from pyspark.sql import SparkSession\n",
        "\n",
        "spark = SparkSession.builder.getOrCreate()"
      ]
    },
    {
      "cell_type": "code",
      "source": [
        "spark"
      ],
      "metadata": {
        "colab": {
          "base_uri": "https://localhost:8080/",
          "height": 220
        },
        "id": "odL3irF61Rk-",
        "outputId": "8c729c2c-6db7-45c0-deb0-c99c6bf45040"
      },
      "execution_count": null,
      "outputs": [
        {
          "output_type": "execute_result",
          "data": {
            "text/plain": [
              "<pyspark.sql.session.SparkSession at 0x7a0cc1db4f70>"
            ],
            "text/html": [
              "\n",
              "            <div>\n",
              "                <p><b>SparkSession - in-memory</b></p>\n",
              "                \n",
              "        <div>\n",
              "            <p><b>SparkContext</b></p>\n",
              "\n",
              "            <p><a href=\"http://65e0b7688c5c:4040\">Spark UI</a></p>\n",
              "\n",
              "            <dl>\n",
              "              <dt>Version</dt>\n",
              "                <dd><code>v3.5.4</code></dd>\n",
              "              <dt>Master</dt>\n",
              "                <dd><code>local[*]</code></dd>\n",
              "              <dt>AppName</dt>\n",
              "                <dd><code>pyspark-shell</code></dd>\n",
              "            </dl>\n",
              "        </div>\n",
              "        \n",
              "            </div>\n",
              "        "
            ]
          },
          "metadata": {},
          "execution_count": 2
        }
      ]
    },
    {
      "cell_type": "code",
      "source": [
        "rc = spark.read.csv(\"crime.csv\", header=True)\n",
        "rc.show(truncate=False)"
      ],
      "metadata": {
        "colab": {
          "base_uri": "https://localhost:8080/"
        },
        "id": "H7bLDjlx1WyW",
        "outputId": "bb34c0c2-0575-473c-907a-bdd393600d84"
      },
      "execution_count": 7,
      "outputs": [
        {
          "output_type": "stream",
          "name": "stdout",
          "text": [
            "+---------------+------------+--------------------------------+------------------------------------------+--------+--------------+--------+-------------------+----+-----+-----------+----+----------+-----------------+-----------+------------+---------------------------+\n",
            "|INCIDENT_NUMBER|OFFENSE_CODE|OFFENSE_CODE_GROUP              |OFFENSE_DESCRIPTION                       |DISTRICT|REPORTING_AREA|SHOOTING|OCCURRED_ON_DATE   |YEAR|MONTH|DAY_OF_WEEK|HOUR|UCR_PART  |STREET           |Lat        |Long        |Location                   |\n",
            "+---------------+------------+--------------------------------+------------------------------------------+--------+--------------+--------+-------------------+----+-----+-----------+----+----------+-----------------+-----------+------------+---------------------------+\n",
            "|I182070945     |00619       |Larceny                         |LARCENY ALL OTHERS                        |D14     |808           |NULL    |2018-09-02 13:00:00|2018|9    |Sunday     |13  |Part One  |LINCOLN ST       |42.35779134|-71.13937053|(42.35779134, -71.13937053)|\n",
            "|I182070943     |01402       |Vandalism                       |VANDALISM                                 |C11     |347           |NULL    |2018-08-21 00:00:00|2018|8    |Tuesday    |0   |Part Two  |HECLA ST         |42.30682138|-71.06030035|(42.30682138, -71.06030035)|\n",
            "|I182070941     |03410       |Towed                           |TOWED MOTOR VEHICLE                       |D4      |151           |NULL    |2018-09-03 19:27:00|2018|9    |Monday     |19  |Part Three|CAZENOVE ST      |42.34658879|-71.07242943|(42.34658879, -71.07242943)|\n",
            "|I182070940     |03114       |Investigate Property            |INVESTIGATE PROPERTY                      |D4      |272           |NULL    |2018-09-03 21:16:00|2018|9    |Monday     |21  |Part Three|NEWCOMB ST       |42.33418175|-71.07866441|(42.33418175, -71.07866441)|\n",
            "|I182070938     |03114       |Investigate Property            |INVESTIGATE PROPERTY                      |B3      |421           |NULL    |2018-09-03 21:05:00|2018|9    |Monday     |21  |Part Three|DELHI ST         |42.27536542|-71.09036101|(42.27536542, -71.09036101)|\n",
            "|I182070936     |03820       |Motor Vehicle Accident Response |M/V ACCIDENT INVOLVING PEDESTRIAN - INJURY|C11     |398           |NULL    |2018-09-03 21:09:00|2018|9    |Monday     |21  |Part Three|TALBOT AVE       |42.29019621|-71.07159012|(42.29019621, -71.07159012)|\n",
            "|I182070933     |00724       |Auto Theft                      |AUTO THEFT                                |B2      |330           |NULL    |2018-09-03 21:25:00|2018|9    |Monday     |21  |Part One  |NORMANDY ST      |42.30607218|-71.08273260|(42.30607218, -71.08273260)|\n",
            "|I182070932     |03301       |Verbal Disputes                 |VERBAL DISPUTE                            |B2      |584           |NULL    |2018-09-03 20:39:37|2018|9    |Monday     |20  |Part Three|LAWN ST          |42.32701648|-71.10555088|(42.32701648, -71.10555088)|\n",
            "|I182070931     |00301       |Robbery                         |ROBBERY - STREET                          |C6      |177           |NULL    |2018-09-03 20:48:00|2018|9    |Monday     |20  |Part One  |MASSACHUSETTS AVE|42.33152148|-71.07085307|(42.33152148, -71.07085307)|\n",
            "|I182070929     |03301       |Verbal Disputes                 |VERBAL DISPUTE                            |C11     |364           |NULL    |2018-09-03 20:38:00|2018|9    |Monday     |20  |Part Three|LESLIE ST        |42.29514664|-71.05860832|(42.29514664, -71.05860832)|\n",
            "|I182070928     |03301       |Verbal Disputes                 |VERBAL DISPUTE                            |C6      |913           |NULL    |2018-09-03 19:55:00|2018|9    |Monday     |19  |Part Three|OCEAN VIEW DR    |42.31957856|-71.04032766|(42.31957856, -71.04032766)|\n",
            "|I182070927     |03114       |Investigate Property            |INVESTIGATE PROPERTY                      |C6      |936           |NULL    |2018-09-03 20:19:00|2018|9    |Monday     |20  |Part Three|DALESSIO CT      |42.34011469|-71.05339029|(42.34011469, -71.05339029)|\n",
            "|I182070923     |03108       |Fire Related Reports            |FIRE REPORT - HOUSE, BUILDING, ETC.       |D4      |139           |NULL    |2018-09-03 19:58:00|2018|9    |Monday     |19  |Part Three|MARLBOROUGH ST   |42.35038760|-71.08785290|(42.35038760, -71.08785290)|\n",
            "|I182070922     |02647       |Other                           |THREATS TO DO BODILY HARM                 |B3      |429           |NULL    |2018-09-03 20:39:00|2018|9    |Monday     |20  |Part Two  |WOODROW AVE      |42.28647012|-71.08714661|(42.28647012, -71.08714661)|\n",
            "|I182070921     |03201       |Property Lost                   |PROPERTY - LOST                           |B3      |469           |NULL    |2018-09-02 14:00:00|2018|9    |Sunday     |14  |Part Three|MULVEY ST        |42.27924052|-71.09667382|(42.27924052, -71.09667382)|\n",
            "|I182070920     |03006       |Medical Assistance              |SICK/INJURED/MEDICAL - PERSON             |NULL    |              |NULL    |2018-09-03 19:43:00|2018|9    |Monday     |19  |Part Three|NULL             |42.35287456|-71.07382970|(42.35287456, -71.07382970)|\n",
            "|I182070919     |03301       |Verbal Disputes                 |VERBAL DISPUTE                            |C11     |341           |NULL    |2018-09-03 18:52:00|2018|9    |Monday     |18  |Part Three|STONEHURST ST    |42.30526428|-71.06683755|(42.30526428, -71.06683755)|\n",
            "|I182070918     |03305       |Assembly or Gathering Violations|DEMONSTRATIONS/RIOT                       |D4      |130           |NULL    |2018-09-03 17:00:00|2018|9    |Monday     |17  |Part Three|HUNTINGTON AVE   |42.34857652|-71.07772012|(42.34857652, -71.07772012)|\n",
            "|I182070917     |02647       |Other                           |THREATS TO DO BODILY HARM                 |B2      |901           |NULL    |2018-09-03 19:52:00|2018|9    |Monday     |19  |Part Two  |HORADAN WAY      |42.33371742|-71.09665806|(42.33371742, -71.09665806)|\n",
            "|I182070915     |00614       |Larceny From Motor Vehicle      |LARCENY THEFT FROM MV - NON-ACCESSORY     |B2      |181           |NULL    |2018-09-02 18:00:00|2018|9    |Sunday     |18  |Part One  |SHIRLEY ST       |42.32569490|-71.06816778|(42.32569490, -71.06816778)|\n",
            "+---------------+------------+--------------------------------+------------------------------------------+--------+--------------+--------+-------------------+----+-----+-----------+----+----------+-----------------+-----------+------------+---------------------------+\n",
            "only showing top 20 rows\n",
            "\n"
          ]
        }
      ]
    },
    {
      "cell_type": "code",
      "source": [
        "from pyspark.sql.functions import to_timestamp, col, lit, date_format, dayofweek\n",
        "\n",
        "rc.groupBy(col(\"OFFENSE_CODE_GROUP\")).count().orderBy(\"count\", ascending=False).show(5)"
      ],
      "metadata": {
        "id": "N--OI1xe1iC1",
        "colab": {
          "base_uri": "https://localhost:8080/"
        },
        "outputId": "be1c9fe1-610d-491e-eb7e-87d2aef2bd41"
      },
      "execution_count": 12,
      "outputs": [
        {
          "output_type": "stream",
          "name": "stdout",
          "text": [
            "+--------------------+-----+\n",
            "|  OFFENSE_CODE_GROUP|count|\n",
            "+--------------------+-----+\n",
            "|Motor Vehicle Acc...|37132|\n",
            "|             Larceny|25935|\n",
            "|  Medical Assistance|23540|\n",
            "|  Investigate Person|18750|\n",
            "|               Other|18075|\n",
            "+--------------------+-----+\n",
            "only showing top 5 rows\n",
            "\n"
          ]
        }
      ]
    },
    {
      "cell_type": "code",
      "source": [
        "rc.select(col(\"OCCURRED_ON_DATE\"), dayofweek(col(\"OCCURRED_ON_DATE\")), date_format(col(\"OCCURRED_ON_DATE\"), \"E\")).show()"
      ],
      "metadata": {
        "colab": {
          "base_uri": "https://localhost:8080/"
        },
        "id": "GsXEa-CP5fhK",
        "outputId": "f5737a65-ed28-4c71-d71f-e5e4e7af442d"
      },
      "execution_count": 14,
      "outputs": [
        {
          "output_type": "stream",
          "name": "stdout",
          "text": [
            "+-------------------+---------------------------+--------------------------------+\n",
            "|   OCCURRED_ON_DATE|dayofweek(OCCURRED_ON_DATE)|date_format(OCCURRED_ON_DATE, E)|\n",
            "+-------------------+---------------------------+--------------------------------+\n",
            "|2018-09-02 13:00:00|                          1|                             Sun|\n",
            "|2018-08-21 00:00:00|                          3|                             Tue|\n",
            "|2018-09-03 19:27:00|                          2|                             Mon|\n",
            "|2018-09-03 21:16:00|                          2|                             Mon|\n",
            "|2018-09-03 21:05:00|                          2|                             Mon|\n",
            "|2018-09-03 21:09:00|                          2|                             Mon|\n",
            "|2018-09-03 21:25:00|                          2|                             Mon|\n",
            "|2018-09-03 20:39:37|                          2|                             Mon|\n",
            "|2018-09-03 20:48:00|                          2|                             Mon|\n",
            "|2018-09-03 20:38:00|                          2|                             Mon|\n",
            "|2018-09-03 19:55:00|                          2|                             Mon|\n",
            "|2018-09-03 20:19:00|                          2|                             Mon|\n",
            "|2018-09-03 19:58:00|                          2|                             Mon|\n",
            "|2018-09-03 20:39:00|                          2|                             Mon|\n",
            "|2018-09-02 14:00:00|                          1|                             Sun|\n",
            "|2018-09-03 19:43:00|                          2|                             Mon|\n",
            "|2018-09-03 18:52:00|                          2|                             Mon|\n",
            "|2018-09-03 17:00:00|                          2|                             Mon|\n",
            "|2018-09-03 19:52:00|                          2|                             Mon|\n",
            "|2018-09-02 18:00:00|                          1|                             Sun|\n",
            "+-------------------+---------------------------+--------------------------------+\n",
            "only showing top 20 rows\n",
            "\n"
          ]
        }
      ]
    },
    {
      "cell_type": "code",
      "source": [
        "rc.groupBy(date_format(col(\"OCCURRED_ON_DATE\"), \"E\")).count().orderBy(\"count\", ascending=False).show()"
      ],
      "metadata": {
        "colab": {
          "base_uri": "https://localhost:8080/"
        },
        "id": "hq50sIi46YVr",
        "outputId": "b5f37a33-0be6-4b16-a056-2b1bac76a224"
      },
      "execution_count": 16,
      "outputs": [
        {
          "output_type": "stream",
          "name": "stdout",
          "text": [
            "+--------------------------------+-----+\n",
            "|date_format(OCCURRED_ON_DATE, E)|count|\n",
            "+--------------------------------+-----+\n",
            "|                             Fri|48495|\n",
            "|                             Wed|46729|\n",
            "|                             Thu|46656|\n",
            "|                             Tue|46383|\n",
            "|                             Mon|45679|\n",
            "|                             Sat|44818|\n",
            "|                             Sun|40313|\n",
            "+--------------------------------+-----+\n",
            "\n"
          ]
        }
      ]
    },
    {
      "cell_type": "code",
      "source": [
        "rc.groupBy(date_format(col(\"OCCURRED_ON_DATE\"), \"E\")).count().collect()"
      ],
      "metadata": {
        "colab": {
          "base_uri": "https://localhost:8080/"
        },
        "id": "fhOdnm3ZCi0j",
        "outputId": "66dce8ca-3122-4186-f8e6-93376b5ebae8"
      },
      "execution_count": 17,
      "outputs": [
        {
          "output_type": "execute_result",
          "data": {
            "text/plain": [
              "[Row(date_format(OCCURRED_ON_DATE, E)='Sun', count=40313),\n",
              " Row(date_format(OCCURRED_ON_DATE, E)='Mon', count=45679),\n",
              " Row(date_format(OCCURRED_ON_DATE, E)='Thu', count=46656),\n",
              " Row(date_format(OCCURRED_ON_DATE, E)='Sat', count=44818),\n",
              " Row(date_format(OCCURRED_ON_DATE, E)='Wed', count=46729),\n",
              " Row(date_format(OCCURRED_ON_DATE, E)='Tue', count=46383),\n",
              " Row(date_format(OCCURRED_ON_DATE, E)='Fri', count=48495)]"
            ]
          },
          "metadata": {},
          "execution_count": 17
        }
      ]
    },
    {
      "cell_type": "code",
      "source": [
        "days = [x[0] for x in rc.groupBy(date_format(col(\"OCCURRED_ON_DATE\"), \"E\")).count().collect()]\n",
        "days"
      ],
      "metadata": {
        "colab": {
          "base_uri": "https://localhost:8080/"
        },
        "id": "Fyk3W6URCp7j",
        "outputId": "8f125bac-4669-4484-e337-8823d6a5e962"
      },
      "execution_count": 18,
      "outputs": [
        {
          "output_type": "execute_result",
          "data": {
            "text/plain": [
              "['Sun', 'Mon', 'Thu', 'Sat', 'Wed', 'Tue', 'Fri']"
            ]
          },
          "metadata": {},
          "execution_count": 18
        }
      ]
    },
    {
      "cell_type": "code",
      "source": [
        "count = [x[1] for x in rc.groupBy(date_format(col(\"OCCURRED_ON_DATE\"), \"E\")).count().collect()]\n",
        "count"
      ],
      "metadata": {
        "colab": {
          "base_uri": "https://localhost:8080/"
        },
        "id": "fEYjw3dqCwzR",
        "outputId": "055aa9e2-c585-463a-a043-a12407c8b9d2"
      },
      "execution_count": 19,
      "outputs": [
        {
          "output_type": "execute_result",
          "data": {
            "text/plain": [
              "[40313, 45679, 46656, 44818, 46729, 46383, 48495]"
            ]
          },
          "metadata": {},
          "execution_count": 19
        }
      ]
    },
    {
      "cell_type": "code",
      "source": [
        "import pandas as pd\n",
        "\n",
        "crimes_df = pd.DataFrame({\"days of week\": days, \"count\": count})\n",
        "crimes_df"
      ],
      "metadata": {
        "colab": {
          "base_uri": "https://localhost:8080/",
          "height": 269
        },
        "id": "APML6z2rC1b4",
        "outputId": "731d8ba3-3091-416d-f40a-56533c462138"
      },
      "execution_count": 20,
      "outputs": [
        {
          "output_type": "execute_result",
          "data": {
            "text/plain": [
              "  days of week  count\n",
              "0          Sun  40313\n",
              "1          Mon  45679\n",
              "2          Thu  46656\n",
              "3          Sat  44818\n",
              "4          Wed  46729\n",
              "5          Tue  46383\n",
              "6          Fri  48495"
            ],
            "text/html": [
              "\n",
              "  <div id=\"df-524351bc-a55e-4b95-ba0b-1da8a56fe52f\" class=\"colab-df-container\">\n",
              "    <div>\n",
              "<style scoped>\n",
              "    .dataframe tbody tr th:only-of-type {\n",
              "        vertical-align: middle;\n",
              "    }\n",
              "\n",
              "    .dataframe tbody tr th {\n",
              "        vertical-align: top;\n",
              "    }\n",
              "\n",
              "    .dataframe thead th {\n",
              "        text-align: right;\n",
              "    }\n",
              "</style>\n",
              "<table border=\"1\" class=\"dataframe\">\n",
              "  <thead>\n",
              "    <tr style=\"text-align: right;\">\n",
              "      <th></th>\n",
              "      <th>days of week</th>\n",
              "      <th>count</th>\n",
              "    </tr>\n",
              "  </thead>\n",
              "  <tbody>\n",
              "    <tr>\n",
              "      <th>0</th>\n",
              "      <td>Sun</td>\n",
              "      <td>40313</td>\n",
              "    </tr>\n",
              "    <tr>\n",
              "      <th>1</th>\n",
              "      <td>Mon</td>\n",
              "      <td>45679</td>\n",
              "    </tr>\n",
              "    <tr>\n",
              "      <th>2</th>\n",
              "      <td>Thu</td>\n",
              "      <td>46656</td>\n",
              "    </tr>\n",
              "    <tr>\n",
              "      <th>3</th>\n",
              "      <td>Sat</td>\n",
              "      <td>44818</td>\n",
              "    </tr>\n",
              "    <tr>\n",
              "      <th>4</th>\n",
              "      <td>Wed</td>\n",
              "      <td>46729</td>\n",
              "    </tr>\n",
              "    <tr>\n",
              "      <th>5</th>\n",
              "      <td>Tue</td>\n",
              "      <td>46383</td>\n",
              "    </tr>\n",
              "    <tr>\n",
              "      <th>6</th>\n",
              "      <td>Fri</td>\n",
              "      <td>48495</td>\n",
              "    </tr>\n",
              "  </tbody>\n",
              "</table>\n",
              "</div>\n",
              "    <div class=\"colab-df-buttons\">\n",
              "\n",
              "  <div class=\"colab-df-container\">\n",
              "    <button class=\"colab-df-convert\" onclick=\"convertToInteractive('df-524351bc-a55e-4b95-ba0b-1da8a56fe52f')\"\n",
              "            title=\"Convert this dataframe to an interactive table.\"\n",
              "            style=\"display:none;\">\n",
              "\n",
              "  <svg xmlns=\"http://www.w3.org/2000/svg\" height=\"24px\" viewBox=\"0 -960 960 960\">\n",
              "    <path d=\"M120-120v-720h720v720H120Zm60-500h600v-160H180v160Zm220 220h160v-160H400v160Zm0 220h160v-160H400v160ZM180-400h160v-160H180v160Zm440 0h160v-160H620v160ZM180-180h160v-160H180v160Zm440 0h160v-160H620v160Z\"/>\n",
              "  </svg>\n",
              "    </button>\n",
              "\n",
              "  <style>\n",
              "    .colab-df-container {\n",
              "      display:flex;\n",
              "      gap: 12px;\n",
              "    }\n",
              "\n",
              "    .colab-df-convert {\n",
              "      background-color: #E8F0FE;\n",
              "      border: none;\n",
              "      border-radius: 50%;\n",
              "      cursor: pointer;\n",
              "      display: none;\n",
              "      fill: #1967D2;\n",
              "      height: 32px;\n",
              "      padding: 0 0 0 0;\n",
              "      width: 32px;\n",
              "    }\n",
              "\n",
              "    .colab-df-convert:hover {\n",
              "      background-color: #E2EBFA;\n",
              "      box-shadow: 0px 1px 2px rgba(60, 64, 67, 0.3), 0px 1px 3px 1px rgba(60, 64, 67, 0.15);\n",
              "      fill: #174EA6;\n",
              "    }\n",
              "\n",
              "    .colab-df-buttons div {\n",
              "      margin-bottom: 4px;\n",
              "    }\n",
              "\n",
              "    [theme=dark] .colab-df-convert {\n",
              "      background-color: #3B4455;\n",
              "      fill: #D2E3FC;\n",
              "    }\n",
              "\n",
              "    [theme=dark] .colab-df-convert:hover {\n",
              "      background-color: #434B5C;\n",
              "      box-shadow: 0px 1px 3px 1px rgba(0, 0, 0, 0.15);\n",
              "      filter: drop-shadow(0px 1px 2px rgba(0, 0, 0, 0.3));\n",
              "      fill: #FFFFFF;\n",
              "    }\n",
              "  </style>\n",
              "\n",
              "    <script>\n",
              "      const buttonEl =\n",
              "        document.querySelector('#df-524351bc-a55e-4b95-ba0b-1da8a56fe52f button.colab-df-convert');\n",
              "      buttonEl.style.display =\n",
              "        google.colab.kernel.accessAllowed ? 'block' : 'none';\n",
              "\n",
              "      async function convertToInteractive(key) {\n",
              "        const element = document.querySelector('#df-524351bc-a55e-4b95-ba0b-1da8a56fe52f');\n",
              "        const dataTable =\n",
              "          await google.colab.kernel.invokeFunction('convertToInteractive',\n",
              "                                                    [key], {});\n",
              "        if (!dataTable) return;\n",
              "\n",
              "        const docLinkHtml = 'Like what you see? Visit the ' +\n",
              "          '<a target=\"_blank\" href=https://colab.research.google.com/notebooks/data_table.ipynb>data table notebook</a>'\n",
              "          + ' to learn more about interactive tables.';\n",
              "        element.innerHTML = '';\n",
              "        dataTable['output_type'] = 'display_data';\n",
              "        await google.colab.output.renderOutput(dataTable, element);\n",
              "        const docLink = document.createElement('div');\n",
              "        docLink.innerHTML = docLinkHtml;\n",
              "        element.appendChild(docLink);\n",
              "      }\n",
              "    </script>\n",
              "  </div>\n",
              "\n",
              "\n",
              "<div id=\"df-b6ee2892-4cc4-4b29-b23c-2de7bfc72e88\">\n",
              "  <button class=\"colab-df-quickchart\" onclick=\"quickchart('df-b6ee2892-4cc4-4b29-b23c-2de7bfc72e88')\"\n",
              "            title=\"Suggest charts\"\n",
              "            style=\"display:none;\">\n",
              "\n",
              "<svg xmlns=\"http://www.w3.org/2000/svg\" height=\"24px\"viewBox=\"0 0 24 24\"\n",
              "     width=\"24px\">\n",
              "    <g>\n",
              "        <path d=\"M19 3H5c-1.1 0-2 .9-2 2v14c0 1.1.9 2 2 2h14c1.1 0 2-.9 2-2V5c0-1.1-.9-2-2-2zM9 17H7v-7h2v7zm4 0h-2V7h2v10zm4 0h-2v-4h2v4z\"/>\n",
              "    </g>\n",
              "</svg>\n",
              "  </button>\n",
              "\n",
              "<style>\n",
              "  .colab-df-quickchart {\n",
              "      --bg-color: #E8F0FE;\n",
              "      --fill-color: #1967D2;\n",
              "      --hover-bg-color: #E2EBFA;\n",
              "      --hover-fill-color: #174EA6;\n",
              "      --disabled-fill-color: #AAA;\n",
              "      --disabled-bg-color: #DDD;\n",
              "  }\n",
              "\n",
              "  [theme=dark] .colab-df-quickchart {\n",
              "      --bg-color: #3B4455;\n",
              "      --fill-color: #D2E3FC;\n",
              "      --hover-bg-color: #434B5C;\n",
              "      --hover-fill-color: #FFFFFF;\n",
              "      --disabled-bg-color: #3B4455;\n",
              "      --disabled-fill-color: #666;\n",
              "  }\n",
              "\n",
              "  .colab-df-quickchart {\n",
              "    background-color: var(--bg-color);\n",
              "    border: none;\n",
              "    border-radius: 50%;\n",
              "    cursor: pointer;\n",
              "    display: none;\n",
              "    fill: var(--fill-color);\n",
              "    height: 32px;\n",
              "    padding: 0;\n",
              "    width: 32px;\n",
              "  }\n",
              "\n",
              "  .colab-df-quickchart:hover {\n",
              "    background-color: var(--hover-bg-color);\n",
              "    box-shadow: 0 1px 2px rgba(60, 64, 67, 0.3), 0 1px 3px 1px rgba(60, 64, 67, 0.15);\n",
              "    fill: var(--button-hover-fill-color);\n",
              "  }\n",
              "\n",
              "  .colab-df-quickchart-complete:disabled,\n",
              "  .colab-df-quickchart-complete:disabled:hover {\n",
              "    background-color: var(--disabled-bg-color);\n",
              "    fill: var(--disabled-fill-color);\n",
              "    box-shadow: none;\n",
              "  }\n",
              "\n",
              "  .colab-df-spinner {\n",
              "    border: 2px solid var(--fill-color);\n",
              "    border-color: transparent;\n",
              "    border-bottom-color: var(--fill-color);\n",
              "    animation:\n",
              "      spin 1s steps(1) infinite;\n",
              "  }\n",
              "\n",
              "  @keyframes spin {\n",
              "    0% {\n",
              "      border-color: transparent;\n",
              "      border-bottom-color: var(--fill-color);\n",
              "      border-left-color: var(--fill-color);\n",
              "    }\n",
              "    20% {\n",
              "      border-color: transparent;\n",
              "      border-left-color: var(--fill-color);\n",
              "      border-top-color: var(--fill-color);\n",
              "    }\n",
              "    30% {\n",
              "      border-color: transparent;\n",
              "      border-left-color: var(--fill-color);\n",
              "      border-top-color: var(--fill-color);\n",
              "      border-right-color: var(--fill-color);\n",
              "    }\n",
              "    40% {\n",
              "      border-color: transparent;\n",
              "      border-right-color: var(--fill-color);\n",
              "      border-top-color: var(--fill-color);\n",
              "    }\n",
              "    60% {\n",
              "      border-color: transparent;\n",
              "      border-right-color: var(--fill-color);\n",
              "    }\n",
              "    80% {\n",
              "      border-color: transparent;\n",
              "      border-right-color: var(--fill-color);\n",
              "      border-bottom-color: var(--fill-color);\n",
              "    }\n",
              "    90% {\n",
              "      border-color: transparent;\n",
              "      border-bottom-color: var(--fill-color);\n",
              "    }\n",
              "  }\n",
              "</style>\n",
              "\n",
              "  <script>\n",
              "    async function quickchart(key) {\n",
              "      const quickchartButtonEl =\n",
              "        document.querySelector('#' + key + ' button');\n",
              "      quickchartButtonEl.disabled = true;  // To prevent multiple clicks.\n",
              "      quickchartButtonEl.classList.add('colab-df-spinner');\n",
              "      try {\n",
              "        const charts = await google.colab.kernel.invokeFunction(\n",
              "            'suggestCharts', [key], {});\n",
              "      } catch (error) {\n",
              "        console.error('Error during call to suggestCharts:', error);\n",
              "      }\n",
              "      quickchartButtonEl.classList.remove('colab-df-spinner');\n",
              "      quickchartButtonEl.classList.add('colab-df-quickchart-complete');\n",
              "    }\n",
              "    (() => {\n",
              "      let quickchartButtonEl =\n",
              "        document.querySelector('#df-b6ee2892-4cc4-4b29-b23c-2de7bfc72e88 button');\n",
              "      quickchartButtonEl.style.display =\n",
              "        google.colab.kernel.accessAllowed ? 'block' : 'none';\n",
              "    })();\n",
              "  </script>\n",
              "</div>\n",
              "\n",
              "  <div id=\"id_804c9abb-4f0c-4bb3-8d7f-d367ce182ac2\">\n",
              "    <style>\n",
              "      .colab-df-generate {\n",
              "        background-color: #E8F0FE;\n",
              "        border: none;\n",
              "        border-radius: 50%;\n",
              "        cursor: pointer;\n",
              "        display: none;\n",
              "        fill: #1967D2;\n",
              "        height: 32px;\n",
              "        padding: 0 0 0 0;\n",
              "        width: 32px;\n",
              "      }\n",
              "\n",
              "      .colab-df-generate:hover {\n",
              "        background-color: #E2EBFA;\n",
              "        box-shadow: 0px 1px 2px rgba(60, 64, 67, 0.3), 0px 1px 3px 1px rgba(60, 64, 67, 0.15);\n",
              "        fill: #174EA6;\n",
              "      }\n",
              "\n",
              "      [theme=dark] .colab-df-generate {\n",
              "        background-color: #3B4455;\n",
              "        fill: #D2E3FC;\n",
              "      }\n",
              "\n",
              "      [theme=dark] .colab-df-generate:hover {\n",
              "        background-color: #434B5C;\n",
              "        box-shadow: 0px 1px 3px 1px rgba(0, 0, 0, 0.15);\n",
              "        filter: drop-shadow(0px 1px 2px rgba(0, 0, 0, 0.3));\n",
              "        fill: #FFFFFF;\n",
              "      }\n",
              "    </style>\n",
              "    <button class=\"colab-df-generate\" onclick=\"generateWithVariable('crimes_df')\"\n",
              "            title=\"Generate code using this dataframe.\"\n",
              "            style=\"display:none;\">\n",
              "\n",
              "  <svg xmlns=\"http://www.w3.org/2000/svg\" height=\"24px\"viewBox=\"0 0 24 24\"\n",
              "       width=\"24px\">\n",
              "    <path d=\"M7,19H8.4L18.45,9,17,7.55,7,17.6ZM5,21V16.75L18.45,3.32a2,2,0,0,1,2.83,0l1.4,1.43a1.91,1.91,0,0,1,.58,1.4,1.91,1.91,0,0,1-.58,1.4L9.25,21ZM18.45,9,17,7.55Zm-12,3A5.31,5.31,0,0,0,4.9,8.1,5.31,5.31,0,0,0,1,6.5,5.31,5.31,0,0,0,4.9,4.9,5.31,5.31,0,0,0,6.5,1,5.31,5.31,0,0,0,8.1,4.9,5.31,5.31,0,0,0,12,6.5,5.46,5.46,0,0,0,6.5,12Z\"/>\n",
              "  </svg>\n",
              "    </button>\n",
              "    <script>\n",
              "      (() => {\n",
              "      const buttonEl =\n",
              "        document.querySelector('#id_804c9abb-4f0c-4bb3-8d7f-d367ce182ac2 button.colab-df-generate');\n",
              "      buttonEl.style.display =\n",
              "        google.colab.kernel.accessAllowed ? 'block' : 'none';\n",
              "\n",
              "      buttonEl.onclick = () => {\n",
              "        google.colab.notebook.generateWithVariable('crimes_df');\n",
              "      }\n",
              "      })();\n",
              "    </script>\n",
              "  </div>\n",
              "\n",
              "    </div>\n",
              "  </div>\n"
            ],
            "application/vnd.google.colaboratory.intrinsic+json": {
              "type": "dataframe",
              "variable_name": "crimes_df",
              "summary": "{\n  \"name\": \"crimes_df\",\n  \"rows\": 7,\n  \"fields\": [\n    {\n      \"column\": \"days of week\",\n      \"properties\": {\n        \"dtype\": \"string\",\n        \"num_unique_values\": 7,\n        \"samples\": [\n          \"Sun\",\n          \"Mon\",\n          \"Tue\"\n        ],\n        \"semantic_type\": \"\",\n        \"description\": \"\"\n      }\n    },\n    {\n      \"column\": \"count\",\n      \"properties\": {\n        \"dtype\": \"number\",\n        \"std\": 2580,\n        \"min\": 40313,\n        \"max\": 48495,\n        \"num_unique_values\": 7,\n        \"samples\": [\n          40313,\n          45679,\n          46383\n        ],\n        \"semantic_type\": \"\",\n        \"description\": \"\"\n      }\n    }\n  ]\n}"
            }
          },
          "metadata": {},
          "execution_count": 20
        }
      ]
    },
    {
      "cell_type": "code",
      "source": [
        "crimes_df.sort_values(\"count\", ascending=False).plot(kind=\"bar\", color=\"lightblue\", title=\"Crimes by day of week\", x=\"days of week\", y=\"count\")\n",
        "crimes_df.set_xlabel(\"Day of Week\")\n",
        "crimes_df.set_ylabel(\"Count\")"
      ],
      "metadata": {
        "colab": {
          "base_uri": "https://localhost:8080/",
          "height": 792
        },
        "id": "Rl8Jrp2RDF1Z",
        "outputId": "4f405b66-9f68-4888-e07a-c65e549274e6"
      },
      "execution_count": 27,
      "outputs": [
        {
          "output_type": "error",
          "ename": "AttributeError",
          "evalue": "'DataFrame' object has no attribute 'set_xlabel'",
          "traceback": [
            "\u001b[0;31m---------------------------------------------------------------------------\u001b[0m",
            "\u001b[0;31mAttributeError\u001b[0m                            Traceback (most recent call last)",
            "\u001b[0;32m<ipython-input-27-101298fbc2df>\u001b[0m in \u001b[0;36m<cell line: 2>\u001b[0;34m()\u001b[0m\n\u001b[1;32m      1\u001b[0m \u001b[0mcrimes_df\u001b[0m\u001b[0;34m.\u001b[0m\u001b[0msort_values\u001b[0m\u001b[0;34m(\u001b[0m\u001b[0;34m\"count\"\u001b[0m\u001b[0;34m,\u001b[0m \u001b[0mascending\u001b[0m\u001b[0;34m=\u001b[0m\u001b[0;32mFalse\u001b[0m\u001b[0;34m)\u001b[0m\u001b[0;34m.\u001b[0m\u001b[0mplot\u001b[0m\u001b[0;34m(\u001b[0m\u001b[0mkind\u001b[0m\u001b[0;34m=\u001b[0m\u001b[0;34m\"bar\"\u001b[0m\u001b[0;34m,\u001b[0m \u001b[0mcolor\u001b[0m\u001b[0;34m=\u001b[0m\u001b[0;34m\"lightblue\"\u001b[0m\u001b[0;34m,\u001b[0m \u001b[0mtitle\u001b[0m\u001b[0;34m=\u001b[0m\u001b[0;34m\"Crimes by day of week\"\u001b[0m\u001b[0;34m,\u001b[0m \u001b[0mx\u001b[0m\u001b[0;34m=\u001b[0m\u001b[0;34m\"days of week\"\u001b[0m\u001b[0;34m,\u001b[0m \u001b[0my\u001b[0m\u001b[0;34m=\u001b[0m\u001b[0;34m\"count\"\u001b[0m\u001b[0;34m)\u001b[0m\u001b[0;34m\u001b[0m\u001b[0;34m\u001b[0m\u001b[0m\n\u001b[0;32m----> 2\u001b[0;31m \u001b[0mcrimes_df\u001b[0m\u001b[0;34m.\u001b[0m\u001b[0mset_xlabel\u001b[0m\u001b[0;34m(\u001b[0m\u001b[0;34m\"Day of Week\"\u001b[0m\u001b[0;34m)\u001b[0m\u001b[0;34m\u001b[0m\u001b[0;34m\u001b[0m\u001b[0m\n\u001b[0m\u001b[1;32m      3\u001b[0m \u001b[0mcrimes_df\u001b[0m\u001b[0;34m.\u001b[0m\u001b[0mset_ylabel\u001b[0m\u001b[0;34m(\u001b[0m\u001b[0;34m\"Count\"\u001b[0m\u001b[0;34m)\u001b[0m\u001b[0;34m\u001b[0m\u001b[0;34m\u001b[0m\u001b[0m\n",
            "\u001b[0;32m/usr/local/lib/python3.10/dist-packages/pandas/core/generic.py\u001b[0m in \u001b[0;36m__getattr__\u001b[0;34m(self, name)\u001b[0m\n\u001b[1;32m   6297\u001b[0m         ):\n\u001b[1;32m   6298\u001b[0m             \u001b[0;32mreturn\u001b[0m \u001b[0mself\u001b[0m\u001b[0;34m[\u001b[0m\u001b[0mname\u001b[0m\u001b[0;34m]\u001b[0m\u001b[0;34m\u001b[0m\u001b[0;34m\u001b[0m\u001b[0m\n\u001b[0;32m-> 6299\u001b[0;31m         \u001b[0;32mreturn\u001b[0m \u001b[0mobject\u001b[0m\u001b[0;34m.\u001b[0m\u001b[0m__getattribute__\u001b[0m\u001b[0;34m(\u001b[0m\u001b[0mself\u001b[0m\u001b[0;34m,\u001b[0m \u001b[0mname\u001b[0m\u001b[0;34m)\u001b[0m\u001b[0;34m\u001b[0m\u001b[0;34m\u001b[0m\u001b[0m\n\u001b[0m\u001b[1;32m   6300\u001b[0m \u001b[0;34m\u001b[0m\u001b[0m\n\u001b[1;32m   6301\u001b[0m     \u001b[0;34m@\u001b[0m\u001b[0mfinal\u001b[0m\u001b[0;34m\u001b[0m\u001b[0;34m\u001b[0m\u001b[0m\n",
            "\u001b[0;31mAttributeError\u001b[0m: 'DataFrame' object has no attribute 'set_xlabel'"
          ]
        },
        {
          "output_type": "display_data",
          "data": {
            "text/plain": [
              "<Figure size 640x480 with 1 Axes>"
            ],
            "image/png": "[encoded data removed]"
          },
          "metadata": {}
        }
      ]
    },
    {
      "cell_type": "code",
      "source": [],
      "metadata": {
        "id": "x-2UN35_DTfA"
      },
      "execution_count": null,
      "outputs": []
    }
  ]
}