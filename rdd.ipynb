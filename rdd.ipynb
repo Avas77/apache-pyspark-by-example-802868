{
  "nbformat": 4,
  "nbformat_minor": 0,
  "metadata": {
    "colab": {
      "provenance": [],
      "toc_visible": true,
      "authorship_tag": "ABX9TyMQTHzCT49DaCVtYrO7BdQG",
      "include_colab_link": true
    },
    "kernelspec": {
      "name": "python3",
      "display_name": "Python 3"
    },
    "language_info": {
      "name": "python"
    }
  },
  "cells": [
    {
      "cell_type": "markdown",
      "metadata": {
        "id": "view-in-github",
        "colab_type": "text"
      },
      "source": [
        "<a href=\"https://colab.research.google.com/github/Avas77/apache-pyspark-by-example-802868/blob/rdd-operations/rdd.ipynb\" target=\"_parent\"><img src=\"https://colab.research.google.com/assets/colab-badge.svg\" alt=\"Open In Colab\"/></a>"
      ]
    },
    {
      "cell_type": "code",
      "execution_count": 1,
      "metadata": {
        "colab": {
          "base_uri": "https://localhost:8080/"
        },
        "id": "N-45EcTGF3dH",
        "outputId": "db6dce69-1069-4c0f-a9b0-2cb17ec340c1"
      },
      "outputs": [
        {
          "output_type": "stream",
          "name": "stdout",
          "text": [
            "--2025-01-11 16:01:42--  https://data.cityofchicago.org/resource/z8bn-74gv.csv\n",
            "Resolving data.cityofchicago.org (data.cityofchicago.org)... 174.129.43.10, 100.28.82.57, 35.170.133.124\n",
            "Connecting to data.cityofchicago.org (data.cityofchicago.org)|174.129.43.10|:443... connected.\n",
            "HTTP request sent, awaiting response... 200 OK\n",
            "Length: unspecified [text/csv]\n",
            "Saving to: ‘police-stations.csv’\n",
            "\n",
            "police-stations.csv     [ <=>                ]   6.22K  --.-KB/s    in 0s      \n",
            "\n",
            "2025-01-11 16:01:43 (1.33 GB/s) - ‘police-stations.csv’ saved [6365]\n",
            "\n",
            "total 12\n",
            "-rw-r--r-- 1 root root 6365 Aug 19  2019 police-stations.csv\n",
            "drwxr-xr-x 1 root root 4096 Jan  9 14:24 sample_data\n"
          ]
        }
      ],
      "source": [
        "!wget -O police-stations.csv https://data.cityofchicago.org/resource/z8bn-74gv.csv\n",
        "!ls -l"
      ]
    },
    {
      "cell_type": "code",
      "source": [
        "from pyspark import SparkContext\n",
        "\n",
        "sc = SparkContext.getOrCreate()\n",
        "sc"
      ],
      "metadata": {
        "colab": {
          "base_uri": "https://localhost:8080/",
          "height": 197
        },
        "id": "yYzMst0SGW0A",
        "outputId": "5ef711cb-6e6f-492e-940f-6865780cb636"
      },
      "execution_count": 2,
      "outputs": [
        {
          "output_type": "execute_result",
          "data": {
            "text/plain": [
              "<SparkContext master=local[*] appName=pyspark-shell>"
            ],
            "text/html": [
              "\n",
              "        <div>\n",
              "            <p><b>SparkContext</b></p>\n",
              "\n",
              "            <p><a href=\"http://963529e11978:4040\">Spark UI</a></p>\n",
              "\n",
              "            <dl>\n",
              "              <dt>Version</dt>\n",
              "                <dd><code>v3.5.4</code></dd>\n",
              "              <dt>Master</dt>\n",
              "                <dd><code>local[*]</code></dd>\n",
              "              <dt>AppName</dt>\n",
              "                <dd><code>pyspark-shell</code></dd>\n",
              "            </dl>\n",
              "        </div>\n",
              "        "
            ]
          },
          "metadata": {},
          "execution_count": 2
        }
      ]
    },
    {
      "cell_type": "code",
      "source": [
        "psrdd = sc.textFile(\"police-stations.csv\")\n",
        "psrdd.first()"
      ],
      "metadata": {
        "colab": {
          "base_uri": "https://localhost:8080/",
          "height": 53
        },
        "id": "Q3er7LJsGr6_",
        "outputId": "c76e7223-6d69-4918-9867-bc39c0a69adb"
      },
      "execution_count": 4,
      "outputs": [
        {
          "output_type": "execute_result",
          "data": {
            "text/plain": [
              "'\"district\",\"district_name\",\"address\",\"city\",\"state\",\"zip\",\"website\",\"phone\",\"fax\",\"tty\",\"x_coordinate\",\"y_coordinate\",\"latitude\",\"longitude\",\"location\"'"
            ],
            "application/vnd.google.colaboratory.intrinsic+json": {
              "type": "string"
            }
          },
          "metadata": {},
          "execution_count": 4
        }
      ]
    },
    {
      "cell_type": "code",
      "source": [
        "ps_header = psrdd.first()"
      ],
      "metadata": {
        "id": "mmevyAv_G-LV"
      },
      "execution_count": 5,
      "outputs": []
    },
    {
      "cell_type": "code",
      "source": [
        "ps_rest = psrdd.filter(lambda line : line != ps_header)\n",
        "ps_rest.collect()"
      ],
      "metadata": {
        "colab": {
          "base_uri": "https://localhost:8080/"
        },
        "id": "CisIJ3GOJ3FH",
        "outputId": "bedb8792-53be-4750-ca2c-e78412b397fc"
      },
      "execution_count": 10,
      "outputs": [
        {
          "output_type": "execute_result",
          "data": {
            "text/plain": [
              "['\"Headquarters\",\"Headquarters\",\"3510 S Michigan Ave\",\"Chicago\",\"IL\",\"60653\",\"http://home.chicagopolice.org\",,,,\"1177731.401\",\"1881697.404\",\"41.83070169\",\"-87.62339535\",\"(41.8307016873, -87.6233953459)\"',\n",
              " '\"18\",\"Near North\",\"1160 N Larrabee St\",\"Chicago\",\"IL\",\"60610\",\"http://home.chicagopolice.org/community/districts/18th-district-near-north/\",\"312-742-5870\",\"312-742-5771\",\"312-742-5773\",\"1172080.029\",\"1908086.527\",\"41.90324165\",\"-87.64335214\",\"(41.9032416531, -87.6433521393)\"',\n",
              " '\"19\",\"Town Hall\",\"850 W Addison St\",\"Chicago\",\"IL\",\"60613\",\"http://home.chicagopolice.org/community/districts/19th-district-town-hall/\",\"312-744-8320\",\"312-744-4481\",\"312-744-8011\",\"1169730.744\",\"1924160.317\",\"41.94740046\",\"-87.65151202\",\"(41.9474004564, -87.651512018)\"',\n",
              " '\"20\",\"Lincoln\",\"5400 N Lincoln Ave\",\"Chicago\",\"IL\",\"60625\",\"http://home.chicagopolice.org/community/districts/20th-district-lincoln/\",\"312-742-8714\",\"312-742-8803\",\"312-742-8841\",\"1158399.146\",\"1935788.826\",\"41.97954951\",\"-87.69284451\",\"(41.9795495131, -87.6928445094)\"',\n",
              " '\"22\",\"Morgan Park\",\"1900 W Monterey Ave\",\"Chicago\",\"IL\",\"60643\",\"http://home.chicagopolice.org/community/districts/22nd-district-morgan-park/\",\"312-745-0710\",\"312-745-0814\",\"312-745-0569\",\"1165825.476\",\"1830851.333\",\"41.69143478\",\"-87.66852039\",\"(41.6914347795, -87.6685203937)\"',\n",
              " '\"24\",\"Rogers Park\",\"6464 N Clark St\",\"Chicago\",\"IL\",\"60626\",\"http://home.chicagopolice.org/community/districts/24th-district-rogers-park/\",\"312-744-5907\",\"312-744-6928\",\"312-744-7603\",\"1164193.588\",\"1943199.401\",\"41.99976348\",\"-87.67132429\",\"(41.9997634842, -87.6713242922)\"',\n",
              " '\"25\",\"Grand Central\",\"5555 W Grand Ave\",\"Chicago\",\"IL\",\"60639\",\"http://home.chicagopolice.org/community/districts/25th-district-grand-central/\",\"312-746-8605\",\"312-746-4353\",\"312-746-8383\",\"1138770.871\",\"1913442.439\",\"41.91860889\",\"-87.76557448\",\"(41.9186088912, -87.765574479)\"',\n",
              " '\"1\",\"Central\",\"1718 S State St\",\"Chicago\",\"IL\",\"60616\",\"http://home.chicagopolice.org/community/districts/1st-district-central/\",\"312-745-4290\",\"312-745-3694\",\"312-745-3693\",\"1176569.052\",\"1891771.704\",\"41.85837259\",\"-87.62735617\",\"(41.8583725929, -87.627356171)\"',\n",
              " '\"2\",\"Wentworth\",\"5101 S Wentworth Ave\",\"Chicago\",\"IL\",\"60609\",\"http://home.chicagopolice.org/community/districts/2nd-district-wentworth/\",\"312-747-8366\",\"312-747-5396\",\"312-747-6656\",\"1175864.837\",\"1871153.753\",\"41.80181109\",\"-87.63056018\",\"(41.8018110912, -87.6305601801)\"',\n",
              " '\"3\",\"Grand Crossing\",\"7040 S Cottage Grove Ave\",\"Chicago\",\"IL\",\"60637\",\"http://home.chicagopolice.org/community/districts/3rd-district-grand-crossing/\",\"312-747-8201\",\"312-747-5479\",\"312-747-9168\",\"1182739.183\",\"1858317.732\",\"41.76643089\",\"-87.60574786\",\"(41.7664308925, -87.6057478606)\"',\n",
              " '\"4\",\"South Chicago\",\"2255 E 103rd St\",\"Chicago\",\"IL\",\"60617\",\"http://home.chicagopolice.org/community/districts/4th-district-south-chicago/\",\"312-747-7581\",\"312-747-5276\",\"312-747-9169\",\"1193131.299\",\"1837090.265\",\"41.70793329\",\"-87.56834912\",\"(41.7079332906, -87.5683491228)\"',\n",
              " '\"5\",\"Calumet\",\"727 E 111th St\",\"Chicago\",\"IL\",\"60628\",\"http://home.chicagopolice.org/community/districts/5th-district-calumet/\",\"312-747-8210\",\"312-747-5935\",\"312-747-9170\",\"1183305.427\",\"1831462.313\",\"41.69272336\",\"-87.60450587\",\"(41.6927233639, -87.6045058667)\"',\n",
              " '\"6\",\"Gresham\",\"7808 S Halsted St\",\"Chicago\",\"IL\",\"60620\",\"http://home.chicagopolice.org/community/districts/6th-district-gresham/\",\"312-745-3617\",\"312-745-3649\",\"312-745-3639\",\"1172283.013\",\"1853022.646\",\"41.75213684\",\"-87.64422891\",\"(41.7521368378, -87.6442289066)\"',\n",
              " '\"7\",\"Englewood\",\"1438 W 63rd St\",\"Chicago\",\"IL\",\"60636\",\"http://home.chicagopolice.org/community/districts/7th-district-englewood/\",\"312-747-8223\",\"312-747-6558\",\"312-747-6652\",\"1167659.235\",\"1863005.522\",\"41.77963154\",\"-87.66088702\",\"(41.7796315359, -87.6608870173)\"',\n",
              " '\"8\",\"Chicago Lawn\",\"3420 W 63rd St\",\"Chicago\",\"IL\",\"60629\",\"http://home.chicagopolice.org/community/districts/8th-district-chicago-lawn/\",\"312-747-8730\",\"312-747-8545\",\"312-747-8116\",\"1154575.242\",\"1862672.049\",\"41.77898719\",\"-87.70886382\",\"(41.778987189, -87.7088638153)\"',\n",
              " '\"9\",\"Deering\",\"3120 S Halsted St\",\"Chicago\",\"IL\",\"60608\",\"http://home.chicagopolice.org/community/districts/9th-district-deering/\",\"312-747-8227\",\"312-747-5329\",\"312-747-9172\",\"1171440.24\",\"1884085.224\",\"41.83739443\",\"-87.64640771\",\"(41.8373944311, -87.6464077068)\"',\n",
              " '\"10\",\"Ogden\",\"3315 W Ogden Ave\",\"Chicago\",\"IL\",\"60623\",\"http://home.chicagopolice.org/community/districts/10th-district-ogden/\",\"312-747-7511\",\"312-747-7429\",\"312-747-7471\",\"1154500.753\",\"1890985.501\",\"41.85668453\",\"-87.70838196\",\"(41.8566845327, -87.708381958)\"',\n",
              " '\"11\",\"Harrison\",\"3151 W Harrison St\",\"Chicago\",\"IL\",\"60612\",\"http://home.chicagopolice.org/community/districts/11th-district-harrison/\",\"312-746-8386\",\"312-746-4281\",\"312-746-5151\",\"1155244.069\",\"1897148.755\",\"41.87358229\",\"-87.70548813\",\"(41.8735822883, -87.705488126)\"',\n",
              " '\"12\",\"Near West\",\"1412 S Blue Island Ave',\n",
              " '\",\"Chicago\",\"IL\",\"60608\",\"http://home.chicagopolice.org/community/districts/12th-district-near-west/\",\"312-746-8396\",\"312-746-4248\",\"312-746-9868\",\"1168487.845\",\"1893384.455\",\"41.86297662\",\"-87.65697251\",\"(41.8629766244, -87.6569725149)\"',\n",
              " '\"14\",\"Shakespeare\",\"2150 N California Ave\",\"Chicago\",\"IL\",\"60647\",\"http://home.chicagopolice.org/community/districts/14th-district-shakespeare/\",\"312-744-8250\",\"312-744-2422\",\"312-744-8260\",\"1157304.426\",\"1914481.521\",\"41.92110332\",\"-87.69745182\",\"(41.9211033246, -87.6974518223)\"',\n",
              " '\"15\",\"Austin\",\"5701 W Madison St\",\"Chicago\",\"IL\",\"60644\",\"http://home.chicagopolice.org/community/districts/15th-district-austin/\",\"312-743-1440\",\"312-743-1366\",\"312-743-1485\",\"1138148.815\",\"1899399.078\",\"41.88008346\",\"-87.76819989\",\"(41.8800834614, -87.768199889)\"',\n",
              " '\"16\",\"Jefferson Park\",\"5151 N Milwaukee Ave\",\"Chicago\",\"IL\",\"60630\",\"http://home.chicagopolice.org/community/districts/16th-district-jefferson-park/\",\"312-742-4480\",\"312-742-4421\",\"312-742-4423\",\"1138480.758\",\"1933660.473\",\"41.97409445\",\"-87.76614884\",\"(41.9740944511, -87.7661488432)\"',\n",
              " '\"17\",\"Albany Park\",\"4650 N Pulaski Rd\",\"Chicago\",\"IL\",\"60630\",\"http://home.chicagopolice.org/community/districts/17th-district-albany-park/\",\"312-742-4410\",\"312-742-5411\",\"312-742-5451\",\"1148843.91\",\"1930801.058\",\"41.96605342\",\"-87.72811456\",\"(41.9660534171, -87.728114561)\"']"
            ]
          },
          "metadata": {},
          "execution_count": 10
        }
      ]
    },
    {
      "cell_type": "code",
      "source": [
        "ps_rest.map(lambda line: line.split(\",\")).count()"
      ],
      "metadata": {
        "colab": {
          "base_uri": "https://localhost:8080/"
        },
        "id": "W_xeU2AbJ-H2",
        "outputId": "d462cc28-6f35-40e5-ccd3-ef6bc884c529"
      },
      "execution_count": 9,
      "outputs": [
        {
          "output_type": "execute_result",
          "data": {
            "text/plain": [
              "24"
            ]
          },
          "metadata": {},
          "execution_count": 9
        }
      ]
    },
    {
      "cell_type": "code",
      "source": [],
      "metadata": {
        "id": "oGruzCgzKwNp"
      },
      "execution_count": null,
      "outputs": []
    }
  ]
}